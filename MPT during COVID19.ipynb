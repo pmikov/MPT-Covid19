{
 "cells": [
  {
   "cell_type": "code",
   "execution_count": 1,
   "metadata": {},
   "outputs": [],
   "source": [
    "%matplotlib inline"
   ]
  },
  {
   "cell_type": "code",
   "execution_count": 2,
   "metadata": {},
   "outputs": [],
   "source": [
    "import yfinance as yf\n",
    "import pandas as pd\n",
    "import matplotlib.pyplot as plt\n",
    "import numpy as np\n",
    "\n",
    "from scipy.stats import norm\n",
    "from pypfopt import plotting\n",
    "from pypfopt.efficient_frontier import EfficientFrontier\n",
    "from pypfopt.cla import CLA"
   ]
  },
  {
   "cell_type": "markdown",
   "metadata": {},
   "source": [
    "# Portfolio optimization vs pure index fund investing during COVID-19 crisis\n",
    "\n",
    "### Would an investor have been better prepared for the market volatility in 2020 if he was following the principles of Modern Portfolio Theory than just being invested in the market index?\n",
    "\n",
    "#### In this real-world experiment we look at the relative performance and risk indicators of three investment portfolios during the first five months of 2020 – a period, characterized by some of the most extreme market movements in stock market history, both up and down. Our aim is to gain some insight into whether the most-famous portfolio management theory - the one of the Nobel laurate Harry Markowitz, Modern Portfolio Theory (MPT) – can still serve investors well during such highly turbulent times. \n",
    "\n",
    "Our investment universe is the oldest US stock market index – Dow Jones Industrial Average 30. Looking at the experiment from the perspective of an individual investor interested in gaining exposure to this index for his investment goals in 2020, we review the following alternatives for him: \n",
    "\n",
    "1)\thassle-free investment in the biggest ETF that resembles the performance of Dow Jones 30 - SPDR Dow Jones Industrial Average ETF (DIA)\n",
    "\n",
    "2)\tan optimized Maximum Sharpe Ratio portfolio (MSR) – the one with the highest Sharpe ratio (i.e. risk-adjusted return) on the Efficient Frontier\n",
    "\n",
    "3)\tan optimized Global Minimum Volatility portfolio (GMV) – the one with the lowest level of risk on the Efficient Frontier\n",
    "\n",
    "The Efficient Frontier Optimisation is based on Harry Markowitz’s 1952 classic paper [1], which turned portfolio management from an art into a science. The key insight is that by combining assets with different expected returns and volatilities, one can decide on a mathematically optimal allocation. Any portfolio lying on the Efficient Frontier is considered to be “optimal” in terms of risk vs return – allowing investors to choose any of them depending on their risk tolerance and/or return target.\n",
    "\n",
    "<div>\n",
    "<img src=\"https://i.ibb.co/KGxyS4W/EF.jpg\" width = \"400\"/>\n",
    "</div>\n",
    "\n",
    "To achieve our goal, we need to go through the following steps:\n",
    "\n",
    "1. Gathering historical market data about all components of DJIA 30 until 31-12-2019- we think that two years of historical daily prices give us an excellent insight about stocks` risk and return characteristics given the elevated market volatility during this generally positive stock market period\n",
    "\n",
    "\n",
    "2. Deriving the inputs - return and volatility - needed to build the Efficient Frontier from these 30 stocks\n",
    "\n",
    "\n",
    "3. Building the Efficient Frontier and then finding the stocks weights at its two most interesting points – the MSR and GMV portfolios\n",
    "\n",
    "\n",
    "4. Gathering historical market data about our stock universe in the first five months of 2020, pplying it to our three model portfolios and visualizing the results\n",
    "\n",
    "\n",
    "5. Evaluating the performance using risk management analysis\n",
    "\n",
    "As we understand that just one experiment is very insufficient to draw more general conclusions about the debate of MPT vs pure index investing, we end this exercise with a list of possible further steps towards more comprehensive understanding of the topic. "
   ]
  },
  {
   "cell_type": "markdown",
   "metadata": {},
   "source": [
    "### 1. Gathering Data\n",
    "\n",
    "To gather historical data, we will use yfinance, an excellent library that provides free price data from Yahoo Finance, no API key needed."
   ]
  },
  {
   "cell_type": "code",
   "execution_count": 3,
   "metadata": {},
   "outputs": [
    {
     "name": "stdout",
     "output_type": "stream",
     "text": [
      "[*********************100%***********************]  30 of 30 completed\n"
     ]
    }
   ],
   "source": [
    "DJ30_tickers = [\"MMM\", \"AXP\", \"AAPL\", \"BA\", \"CAT\", \"CVX\", \"CSCO\", \"KO\", \"DD\", \"XOM\", \"GS\", \"HD\", \"IBM\", \"INTC\", \"JNJ\", \"JPM\", \"MCD\", \"MRK\", \"MSFT\", \"NKE\", \"PFE\", \"PG\", \"RTX\", \"TRV\", \"UNH\", \"VZ\", \"V\", \"WMT\", \"WBA\", \"DIS\"]\n",
    "# we auto adjust our data for any corporate actions (dividends, splits) that may artificially affect the price fluctuations\n",
    "stocks_data = yf.download(DJ30_tickers, start='2017-12-29', end='2019-12-31', auto_adjust = True)"
   ]
  },
  {
   "cell_type": "code",
   "execution_count": 4,
   "metadata": {},
   "outputs": [
    {
     "data": {
      "text/html": [
       "<div>\n",
       "<style scoped>\n",
       "    .dataframe tbody tr th:only-of-type {\n",
       "        vertical-align: middle;\n",
       "    }\n",
       "\n",
       "    .dataframe tbody tr th {\n",
       "        vertical-align: top;\n",
       "    }\n",
       "\n",
       "    .dataframe thead th {\n",
       "        text-align: right;\n",
       "    }\n",
       "</style>\n",
       "<table border=\"1\" class=\"dataframe\">\n",
       "  <thead>\n",
       "    <tr style=\"text-align: right;\">\n",
       "      <th></th>\n",
       "      <th>AAPL</th>\n",
       "      <th>AXP</th>\n",
       "      <th>BA</th>\n",
       "      <th>CAT</th>\n",
       "      <th>CSCO</th>\n",
       "      <th>CVX</th>\n",
       "      <th>DD</th>\n",
       "      <th>DIS</th>\n",
       "      <th>GS</th>\n",
       "      <th>HD</th>\n",
       "      <th>...</th>\n",
       "      <th>PFE</th>\n",
       "      <th>PG</th>\n",
       "      <th>RTX</th>\n",
       "      <th>TRV</th>\n",
       "      <th>UNH</th>\n",
       "      <th>V</th>\n",
       "      <th>VZ</th>\n",
       "      <th>WBA</th>\n",
       "      <th>WMT</th>\n",
       "      <th>XOM</th>\n",
       "    </tr>\n",
       "    <tr>\n",
       "      <th>Date</th>\n",
       "      <th></th>\n",
       "      <th></th>\n",
       "      <th></th>\n",
       "      <th></th>\n",
       "      <th></th>\n",
       "      <th></th>\n",
       "      <th></th>\n",
       "      <th></th>\n",
       "      <th></th>\n",
       "      <th></th>\n",
       "      <th></th>\n",
       "      <th></th>\n",
       "      <th></th>\n",
       "      <th></th>\n",
       "      <th></th>\n",
       "      <th></th>\n",
       "      <th></th>\n",
       "      <th></th>\n",
       "      <th></th>\n",
       "      <th></th>\n",
       "      <th></th>\n",
       "    </tr>\n",
       "  </thead>\n",
       "  <tbody>\n",
       "    <tr>\n",
       "      <th>2017-12-29</th>\n",
       "      <td>163.133469</td>\n",
       "      <td>95.173958</td>\n",
       "      <td>281.047150</td>\n",
       "      <td>146.389938</td>\n",
       "      <td>35.270294</td>\n",
       "      <td>111.234879</td>\n",
       "      <td>92.007080</td>\n",
       "      <td>104.554008</td>\n",
       "      <td>243.205765</td>\n",
       "      <td>178.164459</td>\n",
       "      <td>...</td>\n",
       "      <td>32.728546</td>\n",
       "      <td>84.711304</td>\n",
       "      <td>74.760979</td>\n",
       "      <td>127.835030</td>\n",
       "      <td>212.073120</td>\n",
       "      <td>112.023186</td>\n",
       "      <td>46.942368</td>\n",
       "      <td>66.625313</td>\n",
       "      <td>93.333244</td>\n",
       "      <td>72.685234</td>\n",
       "    </tr>\n",
       "    <tr>\n",
       "      <th>2018-01-02</th>\n",
       "      <td>166.054321</td>\n",
       "      <td>94.819359</td>\n",
       "      <td>282.886383</td>\n",
       "      <td>145.888275</td>\n",
       "      <td>35.786003</td>\n",
       "      <td>113.358467</td>\n",
       "      <td>92.885559</td>\n",
       "      <td>108.726067</td>\n",
       "      <td>244.074509</td>\n",
       "      <td>176.754425</td>\n",
       "      <td>...</td>\n",
       "      <td>32.927341</td>\n",
       "      <td>83.577293</td>\n",
       "      <td>75.106758</td>\n",
       "      <td>124.385643</td>\n",
       "      <td>212.746506</td>\n",
       "      <td>112.504623</td>\n",
       "      <td>47.474491</td>\n",
       "      <td>68.762985</td>\n",
       "      <td>93.182022</td>\n",
       "      <td>73.893188</td>\n",
       "    </tr>\n",
       "    <tr>\n",
       "      <th>2018-01-03</th>\n",
       "      <td>166.025375</td>\n",
       "      <td>95.403954</td>\n",
       "      <td>283.801239</td>\n",
       "      <td>146.111237</td>\n",
       "      <td>36.071476</td>\n",
       "      <td>114.184792</td>\n",
       "      <td>94.371216</td>\n",
       "      <td>109.192856</td>\n",
       "      <td>241.802444</td>\n",
       "      <td>177.675644</td>\n",
       "      <td>...</td>\n",
       "      <td>33.171303</td>\n",
       "      <td>83.475838</td>\n",
       "      <td>76.208481</td>\n",
       "      <td>124.781448</td>\n",
       "      <td>214.978226</td>\n",
       "      <td>113.624641</td>\n",
       "      <td>46.498932</td>\n",
       "      <td>69.276764</td>\n",
       "      <td>93.994858</td>\n",
       "      <td>75.344444</td>\n",
       "    </tr>\n",
       "    <tr>\n",
       "      <th>2018-01-04</th>\n",
       "      <td>166.796555</td>\n",
       "      <td>96.990829</td>\n",
       "      <td>282.724396</td>\n",
       "      <td>148.117828</td>\n",
       "      <td>36.173531</td>\n",
       "      <td>113.829384</td>\n",
       "      <td>96.179825</td>\n",
       "      <td>109.144241</td>\n",
       "      <td>245.181931</td>\n",
       "      <td>179.085724</td>\n",
       "      <td>...</td>\n",
       "      <td>33.243599</td>\n",
       "      <td>84.065926</td>\n",
       "      <td>76.448776</td>\n",
       "      <td>124.781448</td>\n",
       "      <td>215.911316</td>\n",
       "      <td>114.047112</td>\n",
       "      <td>46.649700</td>\n",
       "      <td>65.689522</td>\n",
       "      <td>94.079918</td>\n",
       "      <td>75.448730</td>\n",
       "    </tr>\n",
       "    <tr>\n",
       "      <th>2018-01-05</th>\n",
       "      <td>168.695572</td>\n",
       "      <td>97.212029</td>\n",
       "      <td>294.322296</td>\n",
       "      <td>150.458908</td>\n",
       "      <td>36.674522</td>\n",
       "      <td>113.642799</td>\n",
       "      <td>97.432945</td>\n",
       "      <td>108.551003</td>\n",
       "      <td>243.931305</td>\n",
       "      <td>180.956360</td>\n",
       "      <td>...</td>\n",
       "      <td>33.306850</td>\n",
       "      <td>84.121231</td>\n",
       "      <td>77.105133</td>\n",
       "      <td>124.555283</td>\n",
       "      <td>220.028488</td>\n",
       "      <td>116.778435</td>\n",
       "      <td>46.543266</td>\n",
       "      <td>66.900566</td>\n",
       "      <td>94.637550</td>\n",
       "      <td>75.387894</td>\n",
       "    </tr>\n",
       "    <tr>\n",
       "      <th>...</th>\n",
       "      <td>...</td>\n",
       "      <td>...</td>\n",
       "      <td>...</td>\n",
       "      <td>...</td>\n",
       "      <td>...</td>\n",
       "      <td>...</td>\n",
       "      <td>...</td>\n",
       "      <td>...</td>\n",
       "      <td>...</td>\n",
       "      <td>...</td>\n",
       "      <td>...</td>\n",
       "      <td>...</td>\n",
       "      <td>...</td>\n",
       "      <td>...</td>\n",
       "      <td>...</td>\n",
       "      <td>...</td>\n",
       "      <td>...</td>\n",
       "      <td>...</td>\n",
       "      <td>...</td>\n",
       "      <td>...</td>\n",
       "      <td>...</td>\n",
       "    </tr>\n",
       "    <tr>\n",
       "      <th>2019-12-23</th>\n",
       "      <td>282.054138</td>\n",
       "      <td>122.817421</td>\n",
       "      <td>335.553558</td>\n",
       "      <td>145.037827</td>\n",
       "      <td>46.930817</td>\n",
       "      <td>115.553078</td>\n",
       "      <td>62.787884</td>\n",
       "      <td>144.679993</td>\n",
       "      <td>226.283295</td>\n",
       "      <td>216.460632</td>\n",
       "      <td>...</td>\n",
       "      <td>38.165321</td>\n",
       "      <td>122.566338</td>\n",
       "      <td>92.069183</td>\n",
       "      <td>134.436462</td>\n",
       "      <td>292.557281</td>\n",
       "      <td>186.215652</td>\n",
       "      <td>59.453365</td>\n",
       "      <td>56.759140</td>\n",
       "      <td>117.503563</td>\n",
       "      <td>66.662033</td>\n",
       "    </tr>\n",
       "    <tr>\n",
       "      <th>2019-12-24</th>\n",
       "      <td>282.322266</td>\n",
       "      <td>123.064056</td>\n",
       "      <td>331.030457</td>\n",
       "      <td>144.041626</td>\n",
       "      <td>46.618591</td>\n",
       "      <td>115.562683</td>\n",
       "      <td>62.650368</td>\n",
       "      <td>145.289993</td>\n",
       "      <td>227.093277</td>\n",
       "      <td>217.902313</td>\n",
       "      <td>...</td>\n",
       "      <td>38.136204</td>\n",
       "      <td>122.880356</td>\n",
       "      <td>91.915550</td>\n",
       "      <td>134.041733</td>\n",
       "      <td>292.011993</td>\n",
       "      <td>186.703415</td>\n",
       "      <td>59.337166</td>\n",
       "      <td>56.545940</td>\n",
       "      <td>117.977409</td>\n",
       "      <td>66.405968</td>\n",
       "    </tr>\n",
       "    <tr>\n",
       "      <th>2019-12-26</th>\n",
       "      <td>287.923645</td>\n",
       "      <td>123.725060</td>\n",
       "      <td>327.968689</td>\n",
       "      <td>144.764374</td>\n",
       "      <td>46.686893</td>\n",
       "      <td>115.812355</td>\n",
       "      <td>62.601254</td>\n",
       "      <td>145.699997</td>\n",
       "      <td>228.377335</td>\n",
       "      <td>218.050446</td>\n",
       "      <td>...</td>\n",
       "      <td>38.223560</td>\n",
       "      <td>122.880356</td>\n",
       "      <td>92.616127</td>\n",
       "      <td>134.495667</td>\n",
       "      <td>293.112457</td>\n",
       "      <td>188.286041</td>\n",
       "      <td>59.346851</td>\n",
       "      <td>57.078938</td>\n",
       "      <td>117.987274</td>\n",
       "      <td>66.510292</td>\n",
       "    </tr>\n",
       "    <tr>\n",
       "      <th>2019-12-27</th>\n",
       "      <td>287.814392</td>\n",
       "      <td>123.508018</td>\n",
       "      <td>328.187408</td>\n",
       "      <td>144.822968</td>\n",
       "      <td>46.608841</td>\n",
       "      <td>115.524277</td>\n",
       "      <td>62.601254</td>\n",
       "      <td>145.750000</td>\n",
       "      <td>227.834076</td>\n",
       "      <td>217.211090</td>\n",
       "      <td>...</td>\n",
       "      <td>38.165321</td>\n",
       "      <td>123.734093</td>\n",
       "      <td>92.351868</td>\n",
       "      <td>134.998978</td>\n",
       "      <td>293.429718</td>\n",
       "      <td>188.514984</td>\n",
       "      <td>59.579243</td>\n",
       "      <td>57.195225</td>\n",
       "      <td>118.056381</td>\n",
       "      <td>66.282677</td>\n",
       "    </tr>\n",
       "    <tr>\n",
       "      <th>2019-12-30</th>\n",
       "      <td>289.522614</td>\n",
       "      <td>122.629967</td>\n",
       "      <td>324.469513</td>\n",
       "      <td>144.080704</td>\n",
       "      <td>46.433212</td>\n",
       "      <td>115.092133</td>\n",
       "      <td>61.186760</td>\n",
       "      <td>143.770004</td>\n",
       "      <td>226.984619</td>\n",
       "      <td>214.584442</td>\n",
       "      <td>...</td>\n",
       "      <td>37.767365</td>\n",
       "      <td>122.144363</td>\n",
       "      <td>92.106064</td>\n",
       "      <td>134.693054</td>\n",
       "      <td>291.327911</td>\n",
       "      <td>186.962204</td>\n",
       "      <td>59.269386</td>\n",
       "      <td>57.088627</td>\n",
       "      <td>117.868820</td>\n",
       "      <td>65.893845</td>\n",
       "    </tr>\n",
       "  </tbody>\n",
       "</table>\n",
       "<p>503 rows × 30 columns</p>\n",
       "</div>"
      ],
      "text/plain": [
       "                  AAPL         AXP          BA         CAT       CSCO  \\\n",
       "Date                                                                    \n",
       "2017-12-29  163.133469   95.173958  281.047150  146.389938  35.270294   \n",
       "2018-01-02  166.054321   94.819359  282.886383  145.888275  35.786003   \n",
       "2018-01-03  166.025375   95.403954  283.801239  146.111237  36.071476   \n",
       "2018-01-04  166.796555   96.990829  282.724396  148.117828  36.173531   \n",
       "2018-01-05  168.695572   97.212029  294.322296  150.458908  36.674522   \n",
       "...                ...         ...         ...         ...        ...   \n",
       "2019-12-23  282.054138  122.817421  335.553558  145.037827  46.930817   \n",
       "2019-12-24  282.322266  123.064056  331.030457  144.041626  46.618591   \n",
       "2019-12-26  287.923645  123.725060  327.968689  144.764374  46.686893   \n",
       "2019-12-27  287.814392  123.508018  328.187408  144.822968  46.608841   \n",
       "2019-12-30  289.522614  122.629967  324.469513  144.080704  46.433212   \n",
       "\n",
       "                   CVX         DD         DIS          GS          HD  ...  \\\n",
       "Date                                                                   ...   \n",
       "2017-12-29  111.234879  92.007080  104.554008  243.205765  178.164459  ...   \n",
       "2018-01-02  113.358467  92.885559  108.726067  244.074509  176.754425  ...   \n",
       "2018-01-03  114.184792  94.371216  109.192856  241.802444  177.675644  ...   \n",
       "2018-01-04  113.829384  96.179825  109.144241  245.181931  179.085724  ...   \n",
       "2018-01-05  113.642799  97.432945  108.551003  243.931305  180.956360  ...   \n",
       "...                ...        ...         ...         ...         ...  ...   \n",
       "2019-12-23  115.553078  62.787884  144.679993  226.283295  216.460632  ...   \n",
       "2019-12-24  115.562683  62.650368  145.289993  227.093277  217.902313  ...   \n",
       "2019-12-26  115.812355  62.601254  145.699997  228.377335  218.050446  ...   \n",
       "2019-12-27  115.524277  62.601254  145.750000  227.834076  217.211090  ...   \n",
       "2019-12-30  115.092133  61.186760  143.770004  226.984619  214.584442  ...   \n",
       "\n",
       "                  PFE          PG        RTX         TRV         UNH  \\\n",
       "Date                                                                   \n",
       "2017-12-29  32.728546   84.711304  74.760979  127.835030  212.073120   \n",
       "2018-01-02  32.927341   83.577293  75.106758  124.385643  212.746506   \n",
       "2018-01-03  33.171303   83.475838  76.208481  124.781448  214.978226   \n",
       "2018-01-04  33.243599   84.065926  76.448776  124.781448  215.911316   \n",
       "2018-01-05  33.306850   84.121231  77.105133  124.555283  220.028488   \n",
       "...               ...         ...        ...         ...         ...   \n",
       "2019-12-23  38.165321  122.566338  92.069183  134.436462  292.557281   \n",
       "2019-12-24  38.136204  122.880356  91.915550  134.041733  292.011993   \n",
       "2019-12-26  38.223560  122.880356  92.616127  134.495667  293.112457   \n",
       "2019-12-27  38.165321  123.734093  92.351868  134.998978  293.429718   \n",
       "2019-12-30  37.767365  122.144363  92.106064  134.693054  291.327911   \n",
       "\n",
       "                     V         VZ        WBA         WMT        XOM  \n",
       "Date                                                                 \n",
       "2017-12-29  112.023186  46.942368  66.625313   93.333244  72.685234  \n",
       "2018-01-02  112.504623  47.474491  68.762985   93.182022  73.893188  \n",
       "2018-01-03  113.624641  46.498932  69.276764   93.994858  75.344444  \n",
       "2018-01-04  114.047112  46.649700  65.689522   94.079918  75.448730  \n",
       "2018-01-05  116.778435  46.543266  66.900566   94.637550  75.387894  \n",
       "...                ...        ...        ...         ...        ...  \n",
       "2019-12-23  186.215652  59.453365  56.759140  117.503563  66.662033  \n",
       "2019-12-24  186.703415  59.337166  56.545940  117.977409  66.405968  \n",
       "2019-12-26  188.286041  59.346851  57.078938  117.987274  66.510292  \n",
       "2019-12-27  188.514984  59.579243  57.195225  118.056381  66.282677  \n",
       "2019-12-30  186.962204  59.269386  57.088627  117.868820  65.893845  \n",
       "\n",
       "[503 rows x 30 columns]"
      ]
     },
     "execution_count": 4,
     "metadata": {},
     "output_type": "execute_result"
    }
   ],
   "source": [
    "# we will work with the Closing daily price only\n",
    "stocks_prices = stocks_data[\"Close\"]\n",
    "stocks_prices"
   ]
  },
  {
   "cell_type": "code",
   "execution_count": 5,
   "metadata": {},
   "outputs": [
    {
     "name": "stdout",
     "output_type": "stream",
     "text": [
      "<class 'pandas.core.frame.DataFrame'>\n",
      "DatetimeIndex: 503 entries, 2017-12-29 to 2019-12-30\n",
      "Data columns (total 30 columns):\n",
      " #   Column  Non-Null Count  Dtype  \n",
      "---  ------  --------------  -----  \n",
      " 0   AAPL    503 non-null    float64\n",
      " 1   AXP     503 non-null    float64\n",
      " 2   BA      503 non-null    float64\n",
      " 3   CAT     503 non-null    float64\n",
      " 4   CSCO    503 non-null    float64\n",
      " 5   CVX     503 non-null    float64\n",
      " 6   DD      503 non-null    float64\n",
      " 7   DIS     503 non-null    float64\n",
      " 8   GS      503 non-null    float64\n",
      " 9   HD      503 non-null    float64\n",
      " 10  IBM     503 non-null    float64\n",
      " 11  INTC    503 non-null    float64\n",
      " 12  JNJ     503 non-null    float64\n",
      " 13  JPM     503 non-null    float64\n",
      " 14  KO      503 non-null    float64\n",
      " 15  MCD     503 non-null    float64\n",
      " 16  MMM     503 non-null    float64\n",
      " 17  MRK     503 non-null    float64\n",
      " 18  MSFT    503 non-null    float64\n",
      " 19  NKE     503 non-null    float64\n",
      " 20  PFE     503 non-null    float64\n",
      " 21  PG      503 non-null    float64\n",
      " 22  RTX     503 non-null    float64\n",
      " 23  TRV     503 non-null    float64\n",
      " 24  UNH     503 non-null    float64\n",
      " 25  V       503 non-null    float64\n",
      " 26  VZ      503 non-null    float64\n",
      " 27  WBA     503 non-null    float64\n",
      " 28  WMT     503 non-null    float64\n",
      " 29  XOM     503 non-null    float64\n",
      "dtypes: float64(30)\n",
      "memory usage: 121.8 KB\n"
     ]
    }
   ],
   "source": [
    "# checking for missing values\n",
    "stocks_prices.info()"
   ]
  },
  {
   "cell_type": "markdown",
   "metadata": {},
   "source": [
    "### 2. Calculating the expected return and covariance matrix\n",
    "\n",
    "We will use simple estimates like the mean of past returns and sample covariance matrix to provide our inputs for optimization. More sophisticated methods for deriving these inputs are discussed in the end of the notebook as possible future extensions of it."
   ]
  },
  {
   "cell_type": "code",
   "execution_count": 6,
   "metadata": {},
   "outputs": [
    {
     "data": {
      "image/png": "[encoded data removed]",
      "text/plain": [
       "<Figure size 432x288 with 2 Axes>"
      ]
     },
     "metadata": {
      "needs_background": "light"
     },
     "output_type": "display_data"
    },
    {
     "data": {
      "text/plain": [
       "<matplotlib.axes._subplots.AxesSubplot at 0x25d1ec81448>"
      ]
     },
     "execution_count": 6,
     "metadata": {},
     "output_type": "execute_result"
    }
   ],
   "source": [
    "# getting the historical returns and removing the first row which cannot be calculated\n",
    "stocks_returns = stocks_prices.pct_change().iloc[1:,]\n",
    "\n",
    "# calculating the annualized mean and covariance matrix of our universe\n",
    "stocks_returns_annualized = ((1+stocks_returns.mean())**252)-1\n",
    "cov_matrix_annualized = stocks_returns.cov()*252\n",
    "\n",
    "# examining our covariance matrix -> brighter spots outside the diagonal indicate more extreme values among the stocks (co-movements)\n",
    "plotting.plot_covariance(cov_matrix_annualized)"
   ]
  },
  {
   "cell_type": "markdown",
   "metadata": {},
   "source": [
    "### 3. Constructing the efficient frontier and finding our optimum portfolios\n",
    "\n",
    "We will use PyPortfolioOpt library in Python [2] as a very usefull ready-made tool for portfolio optimizations. It provides us with the standard Efficient Frontier Optimisation as well as alternative optimizers like the Markowitz` Critial Line Algorithm (CLA). In our case, we are interested in long-only portfolios and this constraint (stock weight between 0 and 1) is limiting the functionality of the standard EF model based on generic quadratic optimisers. This problem is resolved when using CLA which is specially designed for portfolio optimisation and guarantees that the exact solution is found after a given number of iterations [3]. It is also the method that allows us to visualise the efficient frontier in PyPortfolioOpt."
   ]
  },
  {
   "cell_type": "code",
   "execution_count": 7,
   "metadata": {},
   "outputs": [
    {
     "name": "stderr",
     "output_type": "stream",
     "text": [
      "No handles with labels found to put in legend.\n"
     ]
    },
    {
     "data": {
      "image/png": "[encoded data removed]",
      "text/plain": [
       "<Figure size 432x288 with 1 Axes>"
      ]
     },
     "metadata": {
      "needs_background": "light"
     },
     "output_type": "display_data"
    }
   ],
   "source": [
    "cla = CLA(stocks_returns_annualized, cov_matrix_annualized)\n",
    "\n",
    "# plotting our EF of DJIA30 stocks\n",
    "(ret, vol, weights) = cla.efficient_frontier()\n",
    "plt.scatter (vol, ret, s= 4)\n",
    "plt.title (\"CLA Efficient Frontier\")\n",
    "plt.xlabel (\"Annualized Volatility\")\n",
    "plt.ylabel (\"Annualized Return\")\n",
    "plt.legend()\n",
    "plt.show()"
   ]
  },
  {
   "cell_type": "code",
   "execution_count": 8,
   "metadata": {},
   "outputs": [],
   "source": [
    "# an attempt to find the MSR and GMV using the standard EF optimisation model\n",
    "#ef = EfficientFrontier(stocks_returns_annualized, cov_matrix_annualized)\n",
    "#ef.max_sharpe()\n",
    "#ef.min_volatility() # works only if ef = EfficientFrontier(weight_bounds=(-1, 1))"
   ]
  },
  {
   "cell_type": "code",
   "execution_count": 9,
   "metadata": {},
   "outputs": [],
   "source": [
    "# we will use the maximum sharpe ratio and minimum volatility portfolios derived from CLA optimization\n",
    "max_sharpe = cla.max_sharpe()\n",
    "min_var = cla.min_volatility()\n",
    "\n",
    "# we need to convert the values of these porfolios (i.e. stock weights) from OrderedDict to list in order to use them further \n",
    "MSR_weights = list(max_sharpe.values())\n",
    "GMV_weights = list(min_var.values())"
   ]
  },
  {
   "cell_type": "markdown",
   "metadata": {},
   "source": [
    "### 4. Model portfolios performance during COVID-19 crisis\n",
    "\n",
    "We will use once again yfinance to download our data - this time for the period of our experiment, January to May 2020. As a publicly traded ETF, DIA portfolio performance is directly available. For MSR and GMV portfolios we need to apply the newly-acquired weights to the DJIA 30 stocks. We will then visualise the relative performance and returns distributions of our porfolios to get acquainted with their performance during the COVID-19 crisis. "
   ]
  },
  {
   "cell_type": "code",
   "execution_count": 10,
   "metadata": {},
   "outputs": [
    {
     "name": "stdout",
     "output_type": "stream",
     "text": [
      "[*********************100%***********************]  30 of 30 completed\n",
      "[*********************100%***********************]  1 of 1 completed\n"
     ]
    }
   ],
   "source": [
    "stocks_data_2020 = yf.download(DJ30_tickers, start='2019-12-31', end='2020-05-31', auto_adjust = True)\n",
    "DIA_data_2020 = yf.download(\"DIA\", start='2019-12-31', end='2020-05-31', auto_adjust = True)"
   ]
  },
  {
   "cell_type": "code",
   "execution_count": 11,
   "metadata": {},
   "outputs": [],
   "source": [
    "# converting stock data to daily returns and removing the first row\n",
    "stocks_returns_2020 = stocks_data_2020[\"Close\"].pct_change().iloc[1:,]\n",
    "DIA_returns_2020 = DIA_data_2020[\"Close\"].pct_change().iloc[1:,]\n",
    "\n",
    "# calculating the daily returns of our model portfolios using the optimized weights\n",
    "MSR_returns_2020 = stocks_returns_2020.dot(MSR_weights)\n",
    "GMV_returns_2020 = stocks_returns_2020.dot(GMV_weights)"
   ]
  },
  {
   "cell_type": "code",
   "execution_count": 12,
   "metadata": {},
   "outputs": [],
   "source": [
    "# merging the three pandas series into one pandas DataFrame and renaming the columns\n",
    "portfolios_2020 = pd.concat([DIA_returns_2020, GMV_returns_2020, MSR_returns_2020], join=\"inner\", axis=1)\n",
    "portfolios_2020.columns = [\"DIA\", \"GMV\", \"MSR\"]"
   ]
  },
  {
   "cell_type": "code",
   "execution_count": 13,
   "metadata": {},
   "outputs": [
    {
     "data": {
      "text/plain": [
       "Text(0.5, 1.0, 'Model portfolios - Cumulative returns in 2020')"
      ]
     },
     "execution_count": 13,
     "metadata": {},
     "output_type": "execute_result"
    },
    {
     "data": {
      "image/png": "[encoded data removed]",
      "text/plain": [
       "<Figure size 432x288 with 1 Axes>"
      ]
     },
     "metadata": {
      "needs_background": "light"
     },
     "output_type": "display_data"
    }
   ],
   "source": [
    "# plotting our newly created DataFrame with cumulative returns of the portfolios\n",
    "portfolios_2020.cumsum().plot()\n",
    "plt.title (\"Model portfolios - Cumulative returns in 2020\")"
   ]
  },
  {
   "cell_type": "code",
   "execution_count": 14,
   "metadata": {},
   "outputs": [
    {
     "data": {
      "text/plain": [
       "Text(0.5, 1.0, 'Model portfolios - Daily returns distributions in 2020')"
      ]
     },
     "execution_count": 14,
     "metadata": {},
     "output_type": "execute_result"
    },
    {
     "data": {
      "image/png": "[encoded data removed]",
      "text/plain": [
       "<Figure size 432x288 with 1 Axes>"
      ]
     },
     "metadata": {
      "needs_background": "light"
     },
     "output_type": "display_data"
    }
   ],
   "source": [
    "# visualising the distributions of returns - histograms\n",
    "portfolios_2020.plot.hist(alpha=0.5, bins = 30)\n",
    "plt.title (\"Model portfolios - Daily returns distributions in 2020\")"
   ]
  },
  {
   "cell_type": "code",
   "execution_count": 15,
   "metadata": {},
   "outputs": [
    {
     "data": {
      "text/plain": [
       "Text(0.5, 1.0, 'Model portfolios - Daily returns distributions in 2020')"
      ]
     },
     "execution_count": 15,
     "metadata": {},
     "output_type": "execute_result"
    },
    {
     "data": {
      "image/png": "[encoded data removed]",
      "text/plain": [
       "<Figure size 432x288 with 1 Axes>"
      ]
     },
     "metadata": {
      "needs_background": "light"
     },
     "output_type": "display_data"
    }
   ],
   "source": [
    "# visualising the distributions of returns - boxplots\n",
    "portfolios_2020.plot.box(vert=False)\n",
    "plt.title (\"Model portfolios - Daily returns distributions in 2020\")"
   ]
  },
  {
   "cell_type": "code",
   "execution_count": 16,
   "metadata": {},
   "outputs": [
    {
     "data": {
      "text/html": [
       "<div>\n",
       "<style scoped>\n",
       "    .dataframe tbody tr th:only-of-type {\n",
       "        vertical-align: middle;\n",
       "    }\n",
       "\n",
       "    .dataframe tbody tr th {\n",
       "        vertical-align: top;\n",
       "    }\n",
       "\n",
       "    .dataframe thead th {\n",
       "        text-align: right;\n",
       "    }\n",
       "</style>\n",
       "<table border=\"1\" class=\"dataframe\">\n",
       "  <thead>\n",
       "    <tr style=\"text-align: right;\">\n",
       "      <th></th>\n",
       "      <th>DIA</th>\n",
       "      <th>GMV</th>\n",
       "      <th>MSR</th>\n",
       "    </tr>\n",
       "  </thead>\n",
       "  <tbody>\n",
       "    <tr>\n",
       "      <th>min</th>\n",
       "      <td>-0.128</td>\n",
       "      <td>-0.094</td>\n",
       "      <td>-0.101</td>\n",
       "    </tr>\n",
       "    <tr>\n",
       "      <th>max</th>\n",
       "      <td>0.110</td>\n",
       "      <td>0.088</td>\n",
       "      <td>0.084</td>\n",
       "    </tr>\n",
       "    <tr>\n",
       "      <th>mean</th>\n",
       "      <td>-0.000</td>\n",
       "      <td>-0.001</td>\n",
       "      <td>0.000</td>\n",
       "    </tr>\n",
       "    <tr>\n",
       "      <th>std</th>\n",
       "      <td>0.033</td>\n",
       "      <td>0.028</td>\n",
       "      <td>0.028</td>\n",
       "    </tr>\n",
       "    <tr>\n",
       "      <th>skew</th>\n",
       "      <td>-0.255</td>\n",
       "      <td>-0.085</td>\n",
       "      <td>0.117</td>\n",
       "    </tr>\n",
       "    <tr>\n",
       "      <th>kurt</th>\n",
       "      <td>3.754</td>\n",
       "      <td>2.601</td>\n",
       "      <td>2.695</td>\n",
       "    </tr>\n",
       "  </tbody>\n",
       "</table>\n",
       "</div>"
      ],
      "text/plain": [
       "        DIA    GMV    MSR\n",
       "min  -0.128 -0.094 -0.101\n",
       "max   0.110  0.088  0.084\n",
       "mean -0.000 -0.001  0.000\n",
       "std   0.033  0.028  0.028\n",
       "skew -0.255 -0.085  0.117\n",
       "kurt  3.754  2.601  2.695"
      ]
     },
     "execution_count": 16,
     "metadata": {},
     "output_type": "execute_result"
    }
   ],
   "source": [
    "# statistical summary of our distributions of returns\n",
    "statistical_moments = round(portfolios_2020.agg([\"min\", \"max\", \"mean\", \"std\", \"skew\", \"kurt\"]),3)\n",
    "statistical_moments"
   ]
  },
  {
   "cell_type": "markdown",
   "metadata": {},
   "source": [
    "As of this moment, it already becomes quite clear that the MSR portfolio is the best performing portfolio during the covid-19 crisis – we can see from the first graph that it had much lower drawdown in March (i.e. best tail-risk protection) and then recovered rapidly (so also strong return potential), thus closing the first five months of the year with significant return outperformance vs GMV and DIA.\n",
    "\n",
    "From the histogram, the box plot and the statistical summary we can also get the idea that DIA had the worst risk profile of the three, with the widest dispersion of returns (highest st.dev, the largest negative outliers) – which did not result in an overall return outperformance for the period, even compared to GMV. In other words, it didn’t compensate its investors for the higher risk taken compared to GMV and MSR – and avoiding such sub-optimal risk/return (or mean/variance) portfolios is exactly the idea of MPT.\n",
    "\n",
    "The third and the fourth statistical moments are also providing us with some interesting information about the relative performance of our model portfolios - while the skewness of all three of them is modest and indicate approximately symmetric distribution (between 0.5 and -0.5), it is most negative for DIA (associated with fatter left tails, i.e. negative returns). Also, DIA is the only porfolio with kurtosis well-above the standard 3.0 (lepokurtic, indicating for longer and fatter tails) while MSR is the only one with a positive skew and similar to GMV kurtosis of well-below 3.0."
   ]
  },
  {
   "cell_type": "markdown",
   "metadata": {},
   "source": [
    "### 5. Performance evaluation using risk management analysis\n",
    "\n",
    "We will now proceed with more in-depth analysis of the portfolios in order to gain even better perspective about their relative performance and behaviour during the turmoil. Our job here will also serve us very well in any future extensions of this experiment. \n",
    "\n",
    "We will focus our attention on the risk-adjusted returns of the portfolios (Sharpe and Sortino ratios) and their exposure to tail-risk scenarios (maximum drawdown and different measures of VaR).  "
   ]
  },
  {
   "cell_type": "code",
   "execution_count": 17,
   "metadata": {},
   "outputs": [],
   "source": [
    "# defining a function with our risk management ratios that can be applied to any portoflio returns \n",
    "def risk_statistics (portfolio):\n",
    "    \n",
    "    # Share ratio is the most widely used indicator for risk-adjusted portfolio returns\n",
    "    returns_annualized = ((1+portfolio.mean())**252)-1\n",
    "    # we set up the risk free rate at 0.01 given the record plunge in yields last months \n",
    "    risk_free_rate = 0.01  \n",
    "    vol_annualized = portfolio.std()*np.sqrt(252)\n",
    "    sharpe_ratio = (returns_annualized - risk_free_rate) / vol_annualized\n",
    "    if sharpe_ratio <0:\n",
    "        sharpe_ratio = 0\n",
    "    \n",
    "    # Sortino ratio is very similar to Sharpe but focuses on the downside deviation only (below a target return, usually 0)\n",
    "    target_return = 0\n",
    "    negative_returns = portfolio.loc[portfolio < target_return].dropna()\n",
    "    vol_downside_annualized = negative_returns.std()*np.sqrt(252)\n",
    "    sortino_ratio = (returns_annualized - risk_free_rate) / vol_downside_annualized\n",
    "    if sortino_ratio <0:\n",
    "        sortino_ratio = 0\n",
    "        \n",
    "    # Maximum drawdown is giving us the percentage loss from the highest cumulative historical point\n",
    "    cumulative_ret_portfolio =  ((1+portfolio).cumprod()-1)\n",
    "    running_max = np.maximum.accumulate(cumulative_ret_portfolio)\n",
    "    drawdown = cumulative_ret_portfolio - running_max     \n",
    "    max_drawdown = drawdown.min()\n",
    "        \n",
    "    # We can use this max drawdown caclulation to derive the Calmar ratio - which compares return vs max drawdown\n",
    "    calmar_ratio = returns_annualized / abs(max_drawdown)\n",
    "    if calmar_ratio <0:\n",
    "        calmar_ratio = 0\n",
    "    \n",
    "    # Value-at-risk at 95% confidence interval is the standard measure for tail-risk exposure\n",
    "    # It gives us the maximum expected loss within the confidence interval (so 95% of the time)\n",
    "    # The simplest method used is based on historical prices (assuming history will repeat itself)\n",
    "    var_level = 95\n",
    "    var_95 = np.percentile (portfolio, 100 - var_level)\n",
    "    # Conditional VaR (or Expected Shortfall) is very useful addition to VaR \n",
    "    # It gives us an idea about the average loss outside the VaR confidence interval (so in the remaining 5% of the time)\n",
    "    cvar_95 = portfolio[portfolio <= var_95].mean()\n",
    "    \n",
    "    # Another method for calculating VaR is the parametric one (or variance-covariance)\n",
    "    # It takes the estimated return and st.dev of the portfolio and assumes the future returns will be normally distributed \n",
    "    mu = portfolio.mean()\n",
    "    sigma = portfolio.std()\n",
    "    par_var95 = norm.ppf (1-var_level/100, mu, sigma)\n",
    "    \n",
    "    # The third major method for estimating VaR is based on Monte Carlo simulations \n",
    "    # It takes the estimated return and st.dev of the portfolio and assumes the future returns will be randomly distributed \n",
    "    T = 252\n",
    "    simulated_returns = []\n",
    "    for i in range (1000):\n",
    "        random_returns = np.random.normal (mu, sigma, T)\n",
    "        simulated_returns.append(random_returns)\n",
    "    mc_var95 = np.percentile (simulated_returns, 100 - var_level)\n",
    "       \n",
    "    return round(sharpe_ratio,2), round(sortino_ratio,2), f\"{100*max_drawdown:.2f}%\", round(calmar_ratio,2), f\"{100*var_95:.2f}%\", f\"{100*cvar_95:.2f}%\", f\"{100*par_var95:.2f}%\", f\"{100*mc_var95:.2f}%\""
   ]
  },
  {
   "cell_type": "code",
   "execution_count": 18,
   "metadata": {},
   "outputs": [
    {
     "data": {
      "text/html": [
       "<div>\n",
       "<style scoped>\n",
       "    .dataframe tbody tr th:only-of-type {\n",
       "        vertical-align: middle;\n",
       "    }\n",
       "\n",
       "    .dataframe tbody tr th {\n",
       "        vertical-align: top;\n",
       "    }\n",
       "\n",
       "    .dataframe thead th {\n",
       "        text-align: right;\n",
       "    }\n",
       "</style>\n",
       "<table border=\"1\" class=\"dataframe\">\n",
       "  <thead>\n",
       "    <tr style=\"text-align: right;\">\n",
       "      <th></th>\n",
       "      <th>DIA</th>\n",
       "      <th>GMV</th>\n",
       "      <th>MSR</th>\n",
       "    </tr>\n",
       "  </thead>\n",
       "  <tbody>\n",
       "    <tr>\n",
       "      <th>Sharpe ratio</th>\n",
       "      <td>0</td>\n",
       "      <td>0</td>\n",
       "      <td>0.19</td>\n",
       "    </tr>\n",
       "    <tr>\n",
       "      <th>Sortino ratio</th>\n",
       "      <td>0</td>\n",
       "      <td>0</td>\n",
       "      <td>0.27</td>\n",
       "    </tr>\n",
       "    <tr>\n",
       "      <th>Max drawdown</th>\n",
       "      <td>-38.08%</td>\n",
       "      <td>-31.93%</td>\n",
       "      <td>-25.90%</td>\n",
       "    </tr>\n",
       "    <tr>\n",
       "      <th>Calmar ratio</th>\n",
       "      <td>0</td>\n",
       "      <td>0</td>\n",
       "      <td>0.36</td>\n",
       "    </tr>\n",
       "    <tr>\n",
       "      <th>Var(95)</th>\n",
       "      <td>-4.53%</td>\n",
       "      <td>-4.34%</td>\n",
       "      <td>-4.47%</td>\n",
       "    </tr>\n",
       "    <tr>\n",
       "      <th>CVar(95)</th>\n",
       "      <td>-7.93%</td>\n",
       "      <td>-6.44%</td>\n",
       "      <td>-6.19%</td>\n",
       "    </tr>\n",
       "    <tr>\n",
       "      <th>Parametric VaR(95)</th>\n",
       "      <td>-5.44%</td>\n",
       "      <td>-4.60%</td>\n",
       "      <td>-4.60%</td>\n",
       "    </tr>\n",
       "    <tr>\n",
       "      <th>MonteCarlo VaR(95)</th>\n",
       "      <td>-5.46%</td>\n",
       "      <td>-4.59%</td>\n",
       "      <td>-4.57%</td>\n",
       "    </tr>\n",
       "  </tbody>\n",
       "</table>\n",
       "</div>"
      ],
      "text/plain": [
       "                        DIA      GMV      MSR\n",
       "Sharpe ratio              0        0     0.19\n",
       "Sortino ratio             0        0     0.27\n",
       "Max drawdown        -38.08%  -31.93%  -25.90%\n",
       "Calmar ratio              0        0     0.36\n",
       "Var(95)              -4.53%   -4.34%   -4.47%\n",
       "CVar(95)             -7.93%   -6.44%   -6.19%\n",
       "Parametric VaR(95)   -5.44%   -4.60%   -4.60%\n",
       "MonteCarlo VaR(95)   -5.46%   -4.59%   -4.57%"
      ]
     },
     "execution_count": 18,
     "metadata": {},
     "output_type": "execute_result"
    }
   ],
   "source": [
    "# creating new DataFrame and populating it with the derived risk indicators for our model portoflios\n",
    "DIA_risk = risk_statistics (DIA_returns_2020)\n",
    "GMV_risk = risk_statistics (GMV_returns_2020)\n",
    "MSR_risk = risk_statistics (MSR_returns_2020)\n",
    "col_names = [\"Sharpe ratio\", \"Sortino ratio\", \"Max drawdown\", \"Calmar ratio\", \"Var(95)\", \"CVar(95)\", \"Parametric VaR(95)\", \"MonteCarlo VaR(95)\"]\n",
    "risk_statistics = pd.DataFrame ({\"DIA\": DIA_risk, \"GMV\": GMV_risk, \"MSR\": MSR_risk}, index = col_names)\n",
    "risk_statistics"
   ]
  },
  {
   "cell_type": "markdown",
   "metadata": {},
   "source": [
    "The most interesting observations about our model portfolios from the performed risk statistics are the following:\n",
    "\n",
    "- only MSR manages to reach positive reward-to-risk ratios (Sharpe, Sortino, Calmar) - but the Sharpe ratio is still well-below the minimum acceptable level of 1.0 (which can be explained by the short and turbulent period we are working with)\n",
    "\n",
    "\n",
    "- maximum drawdown difference between DIA and MSR is significant – more than 12%, and contrary to what can be expected, GMV is not the one with the smallest drawdown\n",
    "\n",
    "\n",
    "- historical VaR estimates are very similar for our model portfolios but the riskiness of DIA is revealed by CVaR where we can see that in the worst 5% of the returns we have much larger average losses for it (7.93% expected shortfall) than in GMV and MSR; in other words, it is the tail risk exposure that makes DIA looks relatively unattractive\n",
    "\n",
    "\n",
    "- both the parametric and MonteCarlo methods are also signalling for higher tail-risk exposure for DIA while returning equal measures for MSR and GMV"
   ]
  },
  {
   "cell_type": "markdown",
   "metadata": {},
   "source": [
    "### 6. Conclusion\n",
    "\n",
    "Based on the statistical and risk analysis performed in this experiment, we can assume that the Modern Portfolio Theory principles would had left an investor better equipped for the market turbulence this year than just investing in a pure market index fund. \n",
    "\n",
    "Moreover, we found that the Maximum Sharpe Ratio portfolio performed better than the Global Minimum Volatility portfolio in both absolute and risk-adjusted terms. Surprisingly somehow, MSR also enjoys very similar tail-risk exposures as GMV, and in the case of maximum drawdown suffered during the COVID-19 – it actually turns out to be the one with the smallest tail risk losses.\n",
    "\n",
    "These interesting results, along with the framework used for our analysis, can lay the groundwork for further exploration of the topic. Among others, we see the following ideas as possible extension of this single experiment in order to reach more general conclusions and perform a reliable hypothesis testing:\n",
    "\n",
    "- experimenting over many periods of market crisis, not just COVID-19 – like the DotCom bubble of 2000/01, the Great Recession of 2008/09, the European sovereign debt crisis of 2010/11 and many others; backtesting is another option\n",
    "\n",
    "\n",
    "- experimenting with different stock universes – regionally and globally\n",
    "\n",
    "\n",
    "- using alternative (more sophisticated) approaches for modelling the expected risk than just using historical mean prices – like exponentially weighted mean historical returns (more weight to recent data), CAPM (introducing beta), Fama-Fench factors (introducing fundamentals), or proprietary models;\n",
    "\n",
    "\n",
    "- using alternative (more sophisticated) approaches for modelling the covariance matrix – covariance shrinkage (adjusting for extreme values), semicovariance (focus on downside variation), exponential covariance (more weight to recent data)\n",
    "\n",
    "\n",
    "- experimenting with other optimization methods –  proprietary models, the standard EF model, Black-Litterman, Risk-parity, optimization based on minimizing downside/tail risk (downside deviation, CVaR or max drawdown) rather than just variance\n",
    "\n",
    "\n",
    "- implementing dynamic allocation/rebalancing of the model portfolios – instead of the “buy and hold” philosophy followed in this exercise\n",
    "\n",
    "\n",
    "- experimenting with different asset classes rather than different stocks – government bonds, corporate bonds, alternative investments"
   ]
  },
  {
   "cell_type": "markdown",
   "metadata": {},
   "source": [
    "#### References:\n",
    "\n",
    "[1] - Portfolio Selection by Harry Markowitz, 1952: https://onlinelibrary.wiley.com/doi/abs/10.1111/j.1540-6261.1952.tb01525.x\n",
    "\n",
    "[2] - PyPortfolioOpt library in Python: https://pyportfolioopt.readthedocs.io/en/latest/\n",
    "\n",
    "[3] - An Open-Source Implementation of the Critical-Line Algorithm for Portfolio Optimization https://papers.ssrn.com/sol3/papers.cfm?abstract_id=2197616\n"
   ]
  }
 ],
 "metadata": {
  "kernelspec": {
   "display_name": "Python 3",
   "language": "python",
   "name": "python3"
  },
  "language_info": {
   "codemirror_mode": {
    "name": "ipython",
    "version": 3
   },
   "file_extension": ".py",
   "mimetype": "text/x-python",
   "name": "python",
   "nbconvert_exporter": "python",
   "pygments_lexer": "ipython3",
   "version": "3.7.6"
  }
 },
 "nbformat": 4,
 "nbformat_minor": 4
}
